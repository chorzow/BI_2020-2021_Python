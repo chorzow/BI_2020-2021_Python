{
 "cells": [
  {
   "cell_type": "code",
   "execution_count": 1,
   "id": "23834d2b",
   "metadata": {},
   "outputs": [],
   "source": [
    "import random\n",
    "\n",
    "def shuffle_text(sentence):\n",
    "    words = []\n",
    "    for word in sentence.split():\n",
    "        if len(word) > 2:\n",
    "            words.append(word[0] + ''.join(random.sample(\n",
    "                [char for char in word[1:-1]], \n",
    "                len(word) - 2)) + word[-1])\n",
    "        else:\n",
    "            words.append(word)\n",
    "    return ' '.join(words)"
   ]
  },
  {
   "cell_type": "code",
   "execution_count": 2,
   "id": "fc401600",
   "metadata": {},
   "outputs": [
    {
     "data": {
      "text/plain": [
       "\"W'ere no sgrtreans to lvoe You konw the rleus and so do I A flul cminmtteo'ms what I'm tiniknhg of You wnodu'lt get this from any otehr guy I just wanna tell you how I'm feilneg Gttoa make you undsnaertd Neevr gnnoa give you up Nveer gnnoa let you dwon Nveer gnnoa run aronud and deesrt you Nveer gnnoa make you cry Neevr gnnoa say gybdooe Nveer gnnoa tlel a lie and hurt you Wv'ee kwnon each other for so lnog Your ht'aers been ahincg but y'oure too shy to say it Iisnde we both konw wath's been gniog on We konw the game and we're gnona play it And if you ask me how I'm fieenlg Dn'ot tlel me yr'uoe too blnid to see Never gnona gvie you up Never gnnoa let you down Neevr gnona run aruond and desret you Neevr gnona mkae you cry Neevr gnona say gyodboe Nveer gnona tlel a lie and hurt you Nveer gonna give you up Nveer gnona let you dwon Never gnnoa run aounrd and dreset you Never gnona mkae you cry Neevr gnnoa say gdyoboe Neevr gonna tell a lie and hurt you Neevr gonna gevi, never gonna give (Give you up) W'eve kwonn ecah otehr for so lnog Your h'retas been ancihg but yor'ue too shy to say it Inisde we btoh konw wat'hs been gnoig on We konw the game and wer'e gonna paly it I just wanna tell you how I'm fneeilg Gotta make you ueasnntrdd Never gnona gvie you up Neevr gnnoa let you down Nveer gonna run aounrd and desret you Nveer gnnoa make you cry Nveer gnnoa say godoybe Neevr gonna tell a lie and hrut you Nveer gnona gvie you up Nveer gonna let you dwon Nveer gnona run around and dseret you Neevr gnnoa mkae you cry Never gonna say gooybde Neevr gnona tell a lie and hurt you Neevr gonna gvie you up Neevr gnona let you dwon Never gonna run aonrud and desert you Neevr gonna mkae you cry Never gonna say gdyoobe\""
      ]
     },
     "execution_count": 2,
     "metadata": {},
     "output_type": "execute_result"
    }
   ],
   "source": [
    "with open('test.txt', 'r') as inf:\n",
    "    text = inf.read().replace('\\n', ' ')\n",
    "shuffle_text(text)"
   ]
  },
  {
   "cell_type": "code",
   "execution_count": null,
   "id": "8961fb77",
   "metadata": {},
   "outputs": [],
   "source": []
  }
 ],
 "metadata": {
  "kernelspec": {
   "display_name": "Python 3",
   "language": "python",
   "name": "python3"
  },
  "language_info": {
   "codemirror_mode": {
    "name": "ipython",
    "version": 3
   },
   "file_extension": ".py",
   "mimetype": "text/x-python",
   "name": "python",
   "nbconvert_exporter": "python",
   "pygments_lexer": "ipython3",
   "version": "3.8.8"
  }
 },
 "nbformat": 4,
 "nbformat_minor": 5
}
