{
 "cells": [
  {
   "cell_type": "code",
   "execution_count": 1,
   "id": "41ac49a7",
   "metadata": {
    "scrolled": true
   },
   "outputs": [
    {
     "data": {
      "image/png": "[encoded data removed]",
      "text/plain": [
       "<Figure size 432x288 with 1 Axes>"
      ]
     },
     "metadata": {
      "needs_background": "light"
     },
     "output_type": "display_data"
    }
   ],
   "source": [
    "import random\n",
    "import numpy as np\n",
    "import time\n",
    "import matplotlib.pyplot as plt\n",
    "\n",
    "def is_sorted(lst):\n",
    "    for i in range(len(lst) - 1):\n",
    "        if lst[i] > lst[i + 1]:\n",
    "            return False\n",
    "    return True\n",
    "\n",
    "def bogosort(lst):\n",
    "    while not is_sorted(lst):\n",
    "        random.shuffle(lst)\n",
    "    return lst\n",
    "\n",
    "\n",
    "def bogosort_time(k):  # calculate mean sorting time and standard deviation for list sizes from 0 to k\n",
    "    mean_times = []\n",
    "    stdev = []\n",
    "    list_sizes = list(range(k + 1))\n",
    "    for size in list_sizes:\n",
    "        lst = list(range(k + 1))\n",
    "        timeline = []\n",
    "        random.shuffle(lst)\n",
    "        for _ in range(5):\n",
    "            start = time.perf_counter()\n",
    "            bogosort(lst)\n",
    "            end = time.perf_counter()\n",
    "            timeline.append(end - start)\n",
    "        mean_time = np.mean(timeline)\n",
    "        mean_times.append(mean_time)\n",
    "        dispersion_time = np.std(timeline)\n",
    "        stdev.append(dispersion_time)\n",
    "    return mean_times, stdev\n",
    "\n",
    "k = 9  # it took too long to wait for the bogosort to process a list of size 10 and more, sorry\n",
    "mean_times, stdev = bogosort_time(k)\n",
    "\n",
    "fig,ax = plt.subplots()\n",
    "plt.xlabel('List size')\n",
    "plt.ylabel('Sorting time')\n",
    "plt.title('Mean bogosort time')\n",
    "ax.errorbar(range(k + 1), mean_times, yerr=stdev, fmt='-o')\n",
    "plt.show()"
   ]
  },
  {
   "cell_type": "code",
   "execution_count": null,
   "id": "af4feaa8",
   "metadata": {},
   "outputs": [],
   "source": []
  }
 ],
 "metadata": {
  "kernelspec": {
   "display_name": "Python 3",
   "language": "python",
   "name": "python3"
  },
  "language_info": {
   "codemirror_mode": {
    "name": "ipython",
    "version": 3
   },
   "file_extension": ".py",
   "mimetype": "text/x-python",
   "name": "python",
   "nbconvert_exporter": "python",
   "pygments_lexer": "ipython3",
   "version": "3.8.8"
  }
 },
 "nbformat": 4,
 "nbformat_minor": 5
}
